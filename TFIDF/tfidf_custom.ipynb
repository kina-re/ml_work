{
 "cells": [
  {
   "cell_type": "markdown",
   "metadata": {
    "colab_type": "text",
    "id": "h9464I-uxLiw"
   },
   "source": [
    "# Assignment"
   ]
  },
  {
   "cell_type": "markdown",
   "metadata": {
    "colab_type": "text",
    "id": "IvLvmewlxLix"
   },
   "source": [
    "<font face='georgia'>\n",
    "    \n",
    "   <h4><strong>What does tf-idf mean?</strong></h4>\n",
    "\n",
    "   <p>    \n",
    "Tf-idf stands for <em>term frequency-inverse document frequency</em>, and the tf-idf weight is a weight often used in information retrieval and text mining. This weight is a statistical measure used to evaluate how important a word is to a document in a collection or corpus. The importance increases proportionally to the number of times a word appears in the document but is offset by the frequency of the word in the corpus. Variations of the tf-idf weighting scheme are often used by search engines as a central tool in scoring and ranking a document's relevance given a user query.\n",
    "</p>\n",
    "    \n",
    "   <p>\n",
    "One of the simplest ranking functions is computed by summing the tf-idf for each query term; many more sophisticated ranking functions are variants of this simple model.\n",
    "</p>\n",
    "    \n",
    "   <p>\n",
    "Tf-idf can be successfully used for stop-words filtering in various subject fields including text summarization and classification.\n",
    "</p>\n",
    "    \n",
    "</font>"
   ]
  },
  {
   "cell_type": "markdown",
   "metadata": {
    "colab_type": "text",
    "id": "4XLaGFUMxLiy"
   },
   "source": [
    "<font face='georgia'>\n",
    "    <h4><strong>How to Compute:</strong></h4>\n",
    "\n",
    "Typically, the tf-idf weight is composed by two terms: the first computes the normalized Term Frequency (TF), aka. the number of times a word appears in a document, divided by the total number of words in that document; the second term is the Inverse Document Frequency (IDF), computed as the logarithm of the number of the documents in the corpus divided by the number of documents where the specific term appears.\n",
    "\n",
    " <ul>\n",
    "    <li>\n",
    "<strong>TF:</strong> Term Frequency, which measures how frequently a term occurs in a document. Since every document is different in length, it is possible that a term would appear much more times in long documents than shorter ones. Thus, the term frequency is often divided by the document length (aka. the total number of terms in the document) as a way of normalization: <br>\n",
    "\n",
    "$TF(t) = \\frac{\\text{Number of times term t appears in a document}}{\\text{Total number of terms in the document}}.$\n",
    "</li>\n",
    "<li>\n",
    "<strong>IDF:</strong> Inverse Document Frequency, which measures how important a term is. While computing TF, all terms are considered equally important. However it is known that certain terms, such as \"is\", \"of\", and \"that\", may appear a lot of times but have little importance. Thus we need to weigh down the frequent terms while scale up the rare ones, by computing the following: <br>\n",
    "\n",
    "$IDF(t) = \\log_{e}\\frac{\\text{Total  number of documents}} {\\text{Number of documents with term t in it}}.$\n",
    "for numerical stabiltiy we will be changing this formula little bit\n",
    "$IDF(t) = \\log_{e}\\frac{\\text{Total  number of documents}} {\\text{Number of documents with term t in it}+1}.$\n",
    "</li>\n",
    "</ul>\n",
    "\n",
    "<br>\n",
    "<h4><strong>Example</strong></h4>\n",
    "<p>\n",
    "\n",
    "Consider a document containing 100 words wherein the word cat appears 3 times. The term frequency (i.e., tf) for cat is then (3 / 100) = 0.03. Now, assume we have 10 million documents and the word cat appears in one thousand of these. Then, the inverse document frequency (i.e., idf) is calculated as log(10,000,000 / 1,000) = 4. Thus, the Tf-idf weight is the product of these quantities: 0.03 * 4 = 0.12.\n",
    "</p>\n",
    "</font>"
   ]
  },
  {
   "cell_type": "markdown",
   "metadata": {
    "colab_type": "text",
    "id": "dg2ooa4DxLiz"
   },
   "source": [
    "## Task-1"
   ]
  },
  {
   "cell_type": "markdown",
   "metadata": {
    "colab_type": "text",
    "id": "TAcTjhO8xLiz"
   },
   "source": [
    "<font face='georgia'>\n",
    "    <h4><strong>1. Build a TFIDF Vectorizer & compare its results with Sklearn:</strong></h4>\n",
    "\n",
    "<ul>\n",
    "    <li> As a part of this task you will be implementing TFIDF vectorizer on a collection of text documents.</li>\n",
    "    <br>\n",
    "    <li> You should compare the results of your own implementation of TFIDF vectorizer with that of sklearns implemenation TFIDF vectorizer.</li>\n",
    "    <br>\n",
    "    <li> Sklearn does few more tweaks in the implementation of its version of TFIDF vectorizer, so to replicate the exact results you would need to add following things to your custom implementation of tfidf vectorizer:\n",
    "       <ol>\n",
    "        <li> Sklearn has its vocabulary generated from idf sroted in alphabetical order</li>\n",
    "        <li> Sklearn formula of idf is different from the standard textbook formula. Here the constant <strong>\"1\"</strong> is added to the numerator and denominator of the idf as if an extra document was seen containing every term in the collection exactly once, which prevents zero divisions.\n",
    "            \n",
    " $IDF(t) = 1+\\log_{e}\\frac{1\\text{ }+\\text{ Total  number of documents in collection}} {1+\\text{Number of documents with term t in it}}.$\n",
    "        </li>\n",
    "        <li> Sklearn applies L2-normalization on its output matrix.</li>\n",
    "        <li> The final output of sklearn tfidf vectorizer is a sparse matrix.</li>\n",
    "    </ol>\n",
    "    <br>\n",
    "    <li>Steps to approach this task:\n",
    "    <ol>\n",
    "        <li> You would have to write both fit and transform methods for your custom implementation of tfidf vectorizer.</li>\n",
    "        <li> Print out the alphabetically sorted voacb after you fit your data and check if its the same as that of the feature names from sklearn tfidf vectorizer. </li>\n",
    "        <li> Print out the idf values from your implementation and check if its the same as that of sklearns tfidf vectorizer idf values. </li>\n",
    "        <li> Once you get your voacb and idf values to be same as that of sklearns implementation of tfidf vectorizer, proceed to the below steps. </li>\n",
    "        <li> Make sure the output of your implementation is a sparse matrix. Before generating the final output, you need to normalize your sparse matrix using L2 normalization. You can refer to this link https://scikit-learn.org/stable/modules/generated/sklearn.preprocessing.normalize.html </li>\n",
    "        <li> After completing the above steps, print the output of your custom implementation and compare it with sklearns implementation of tfidf vectorizer.</li>\n",
    "        <li> To check the output of a single document in your collection of documents,  you can convert the sparse matrix related only to that document into dense matrix and print it.</li>\n",
    "        </ol>\n",
    "    </li>\n",
    "    <br>\n",
    "   </ul>\n",
    "\n",
    "  <p> <font color=\"#e60000\"><strong>Note-1: </strong></font> All the necessary outputs of sklearns tfidf vectorizer have been provided as reference in this notebook, you can compare your outputs as mentioned in the above steps, with these outputs.<br>\n",
    "   <font color=\"#e60000\"><strong>Note-2: </strong></font> The output of your custom implementation and that of sklearns implementation would match only with the collection of document strings provided to you as reference in this notebook. It would not match for strings that contain capital letters or punctuations, etc, because sklearn version of tfidf vectorizer deals with such strings in a different way. To know further details about how sklearn tfidf vectorizer works with such string, you can always refer to its official documentation.<br>\n",
    "   <font color=\"#e60000\"><strong>Note-3: </strong></font> During this task, it would be helpful for you to debug the code you write with print statements wherever necessary. But when you are finally submitting the assignment, make sure your code is readable and try not to print things which are not part of this task.\n",
    "    </p>"
   ]
  },
  {
   "cell_type": "markdown",
   "metadata": {
    "colab_type": "text",
    "id": "OnV82tg1xLi0"
   },
   "source": [
    "### Corpus"
   ]
  },
  {
   "cell_type": "code",
   "execution_count": 1,
   "metadata": {
    "colab": {},
    "colab_type": "code",
    "id": "bUsYm9wjxLi1"
   },
   "outputs": [],
   "source": [
    "## SkLearn# Collection of string documents\n",
    "\n",
    "corpus = [\n",
    "     'this is the first document',\n",
    "     'this document is the second document',\n",
    "     'and this is the third one',\n",
    "     'is this the first document',\n",
    "]"
   ]
  },
  {
   "cell_type": "markdown",
   "metadata": {
    "colab_type": "text",
    "id": "eLwmFZfKxLi4"
   },
   "source": [
    "### SkLearn Implementation"
   ]
  },
  {
   "cell_type": "code",
   "execution_count": 2,
   "metadata": {
    "colab": {},
    "colab_type": "code",
    "id": "Np4dfQOkxLi4"
   },
   "outputs": [],
   "source": [
    "from sklearn.feature_extraction.text import TfidfVectorizer\n",
    "vectorizer = TfidfVectorizer()\n",
    "vectorizer.fit(corpus)\n",
    "skl_output = vectorizer.transform(corpus)\n"
   ]
  },
  {
   "cell_type": "code",
   "execution_count": 3,
   "metadata": {
    "colab": {},
    "colab_type": "code",
    "id": "-7Om8YpYxLi6",
    "outputId": "0a3bd0f5-4424-4400-944f-4482a80bd799"
   },
   "outputs": [
    {
     "name": "stdout",
     "output_type": "stream",
     "text": [
      "['and', 'document', 'first', 'is', 'one', 'second', 'the', 'third', 'this']\n"
     ]
    }
   ],
   "source": [
    "# sklearn feature names, they are sorted in alphabetic order by default.\n",
    "\n",
    "print(vectorizer.get_feature_names())"
   ]
  },
  {
   "cell_type": "code",
   "execution_count": 4,
   "metadata": {
    "colab": {},
    "colab_type": "code",
    "id": "dTKplK96xLi-",
    "outputId": "53722fa2-6756-4aa0-f179-37b578bb6890"
   },
   "outputs": [
    {
     "name": "stdout",
     "output_type": "stream",
     "text": [
      "[1.91629073 1.22314355 1.51082562 1.         1.91629073 1.91629073\n",
      " 1.         1.91629073 1.        ]\n"
     ]
    }
   ],
   "source": [
    "# Here we will print the sklearn tfidf vectorizer idf values after applying the fit method\n",
    "# After using the fit function on the corpus the vocab has 9 words in it, and each has its idf value.\n",
    "\n",
    "print(vectorizer.idf_)"
   ]
  },
  {
   "cell_type": "code",
   "execution_count": 5,
   "metadata": {
    "colab": {},
    "colab_type": "code",
    "id": "-CTiWHygxLjA",
    "outputId": "8d5a9cde-2c29-4afe-f7b4-1547e88dba4f"
   },
   "outputs": [
    {
     "data": {
      "text/plain": [
       "(4, 9)"
      ]
     },
     "execution_count": 5,
     "metadata": {},
     "output_type": "execute_result"
    }
   ],
   "source": [
    "# shape of sklearn tfidf vectorizer output after applying transform method.\n",
    "\n",
    "skl_output.shape"
   ]
  },
  {
   "cell_type": "code",
   "execution_count": 6,
   "metadata": {
    "colab": {},
    "colab_type": "code",
    "id": "bDKEpbA-xLjD",
    "outputId": "87dafd65-5313-443f-8c6e-1b05cc8c2543"
   },
   "outputs": [
    {
     "name": "stdout",
     "output_type": "stream",
     "text": [
      "  (0, 8)\t0.38408524091481483\n",
      "  (0, 6)\t0.38408524091481483\n",
      "  (0, 3)\t0.38408524091481483\n",
      "  (0, 2)\t0.5802858236844359\n",
      "  (0, 1)\t0.46979138557992045\n"
     ]
    }
   ],
   "source": [
    "# sklearn tfidf values for first line of the above corpus.\n",
    "# Here the output is a sparse matrix\n",
    "\n",
    "print(skl_output[0])"
   ]
  },
  {
   "cell_type": "code",
   "execution_count": 7,
   "metadata": {
    "colab": {},
    "colab_type": "code",
    "id": "3QWo34hexLjF",
    "outputId": "cdc04e08-989f-4bdc-dd7f-f1c82a9f90be"
   },
   "outputs": [
    {
     "name": "stdout",
     "output_type": "stream",
     "text": [
      "[[0.         0.46979139 0.58028582 0.38408524 0.         0.\n",
      "  0.38408524 0.         0.38408524]]\n"
     ]
    }
   ],
   "source": [
    "# sklearn tfidf values for first line of the above corpus.\n",
    "# To understand the output better, here we are converting the sparse output matrix to dense matrix and printing it.\n",
    "# Notice that this output is normalized using L2 normalization. sklearn does this by default.\n",
    "\n",
    "print(skl_output[0].toarray())"
   ]
  },
  {
   "cell_type": "markdown",
   "metadata": {
    "colab_type": "text",
    "id": "qfIwx5LzxLjI"
   },
   "source": [
    "### Your custom implementation"
   ]
  },
  {
   "cell_type": "code",
   "execution_count": 8,
   "metadata": {
    "colab": {},
    "colab_type": "code",
    "id": "HjuCcJwXxLjJ"
   },
   "outputs": [],
   "source": [
    "# Write your code here.\n",
    "# Make sure its well documented and readble with appropriate comments.\n",
    "# Compare your results with the above sklearn tfidf vectorizer\n",
    "# You are not supposed to use any other library apart from the ones given below\n",
    "\n",
    "from collections import Counter\n",
    "from tqdm import tqdm\n",
    "from scipy.sparse import csr_matrix\n",
    "import math\n",
    "import operator\n",
    "from sklearn.preprocessing import normalize\n",
    "import numpy as np"
   ]
  },
  {
   "cell_type": "code",
   "execution_count": 9,
   "metadata": {},
   "outputs": [
    {
     "data": {
      "text/plain": [
       "['and', 'document', 'first', 'is', 'one', 'second', 'the', 'third', 'this']"
      ]
     },
     "execution_count": 9,
     "metadata": {},
     "output_type": "execute_result"
    }
   ],
   "source": [
    "# feature names, they are sorted in alphabetic order by default.\n",
    "def get_featurenames(lst):\n",
    "    \"\"\"\n",
    "    get feature names\n",
    "    :param lst: list of words\n",
    "    :return: list of unique words sorted in alphabetical order\n",
    "    \"\"\"\n",
    "    unique_words = set([word for line in lst for word in line.split()])\n",
    "    sort_words = sorted(list(unique_words))\n",
    "    return sort_words\n",
    "\n",
    "\n",
    "vocab = get_featurenames(corpus)\n",
    "vocab"
   ]
  },
  {
   "cell_type": "code",
   "execution_count": 10,
   "metadata": {},
   "outputs": [
    {
     "data": {
      "text/plain": [
       "(4, 9)"
      ]
     },
     "execution_count": 10,
     "metadata": {},
     "output_type": "execute_result"
    }
   ],
   "source": [
    "shape=(len(corpus), len(vocab))\n",
    "shape"
   ]
  },
  {
   "cell_type": "code",
   "execution_count": 11,
   "metadata": {},
   "outputs": [
    {
     "data": {
      "text/plain": [
       "[1.916290731874155,\n",
       " 1.2231435513142097,\n",
       " 1.5108256237659907,\n",
       " 1.0,\n",
       " 1.916290731874155,\n",
       " 1.916290731874155,\n",
       " 1.0,\n",
       " 1.916290731874155,\n",
       " 1.0]"
      ]
     },
     "execution_count": 11,
     "metadata": {},
     "output_type": "execute_result"
    }
   ],
   "source": [
    "#Calculate idf\n",
    "import math\n",
    "\n",
    "def idf_val(dataset, vocabulary):\n",
    "    \"\"\"\n",
    "    calculates idf value\n",
    "    :param dataset: list of sentences in corpus\n",
    "    :param vocabulary: list of unique words\n",
    "    :return:\n",
    "    \"\"\"\n",
    "    no_of_docs = len(dataset)\n",
    "    d = {}\n",
    "\n",
    "    idf = []\n",
    "    for w in vocabulary:\n",
    "        for s in dataset:\n",
    "\n",
    "            if w in s:\n",
    "                try:\n",
    "                    d[w] += 1\n",
    "                except KeyError:\n",
    "                    d[w] = 1\n",
    "\n",
    "    for k, v in d.items():\n",
    "        n = 1 + (math.log((1 + no_of_docs) / (1 + v)))\n",
    "        idf.append(n)\n",
    "    return idf\n",
    "\n",
    "idf_val(corpus,vocab)"
   ]
  },
  {
   "cell_type": "code",
   "execution_count": 12,
   "metadata": {},
   "outputs": [
    {
     "data": {
      "text/plain": [
       "{'and': 0,\n",
       " 'document': 1,\n",
       " 'first': 2,\n",
       " 'is': 3,\n",
       " 'one': 4,\n",
       " 'second': 5,\n",
       " 'the': 6,\n",
       " 'third': 7,\n",
       " 'this': 8}"
      ]
     },
     "execution_count": 12,
     "metadata": {},
     "output_type": "execute_result"
    }
   ],
   "source": [
    "# Get frequency of each word in vocab\n",
    "def vocab_dct(lst):\n",
    "    \"\"\"\n",
    "    Get frequency of each word in vocab\n",
    "    :param lst: lst of sentences\n",
    "    :return: dictionary with word as key and value as frequency\n",
    "    \"\"\"\n",
    "    vocab_dt = {j: i for i, j in enumerate(lst)}\n",
    "    return vocab_dt\n",
    "\n",
    "\n",
    "vocab_d = vocab_dct(vocab)\n",
    "vocab_d"
   ]
  },
  {
   "cell_type": "code",
   "execution_count": 13,
   "metadata": {},
   "outputs": [
    {
     "name": "stdout",
     "output_type": "stream",
     "text": [
      "Enter no from 0 to 3: 0\n"
     ]
    }
   ],
   "source": [
    "#Calculates tfidf\n",
    "from collections import Counter\n",
    "from icecream import ic\n",
    "\n",
    "def tf_idf(corpus):\n",
    "    \"\"\"\n",
    "    calculates tfidf\n",
    "    :param corpus: list of sentences\n",
    "    :return: list of tfidf value for chosen sentence without regularization\n",
    "    \"\"\"\n",
    "    words_in_doc = []\n",
    "\n",
    "    for s in corpus:\n",
    "        words_in_doc.append(s.split())\n",
    "\n",
    "\n",
    "    # https://stackoverflow.com/questions/57817905/count-strings-in-nested-list\n",
    "\n",
    "    # counts frequency of words from each sentence of the corpus\n",
    "    counter_list = [dict(Counter(sentence)) for sentence in words_in_doc]\n",
    "\n",
    "    # creates vector of frequency of each word from sentences of corpus\n",
    "    values_list = []\n",
    "    for d in counter_list:\n",
    "        values_list.append(list(d.values()))\n",
    " \n",
    "\n",
    "    tf_vals = []\n",
    "    for value_list in values_list:\n",
    "        # calculates the term frequencies\n",
    "        tfs = []\n",
    "        for value in value_list:\n",
    "            tf = float(value / len(value_list))\n",
    "            tfs.append(tf)\n",
    "\n",
    "        # vectors of term frequencies as a nested list\n",
    "        tf_vals.append(tfs)\n",
    "\n",
    "\n",
    "    # row_col index for each line of corpus\n",
    "    lst_row_col_indx = []\n",
    "\n",
    "    for i, di in enumerate(counter_list):\n",
    "        row_col_indx = []\n",
    "        for k, v in di.items():\n",
    "            if k in vocab_d:\n",
    "                row_col_indx.append((i, vocab_d[k]))\n",
    "        lst_row_col_indx.append(row_col_indx)\n",
    "\n",
    "        # Get column indices as vectors\n",
    "    indices = []\n",
    "    for sublist in lst_row_col_indx:\n",
    "        idx = []\n",
    "        for index in sublist:\n",
    "            idx.append(index[1])\n",
    "        indices.append(idx)\n",
    "\n",
    "    # idf scores\n",
    "    idf_c = idf_val(corpus, vocab)\n",
    "\n",
    "    # idf scores as per column indices\n",
    "    idf_d = []\n",
    "    for j in indices:\n",
    "        idf_1 = []\n",
    "        for h in range(len(j)):\n",
    "            idf_1.append(idf_c[j[h]])\n",
    "        idf_d.append(idf_1)\n",
    "\n",
    "    # select the line from the corpus, for which you want tfidf value\n",
    "    ur_val = int(input('Enter no from 0 to 3: '))\n",
    "\n",
    "    lst_tfs = tf_vals[ur_val]\n",
    "    lst_idfs = idf_d[ur_val]\n",
    "\n",
    "    # tf idf values for the chosen line without regularization\n",
    "    tf_idf_ans = []\n",
    "    for i in range(0, len(lst_tfs)):\n",
    "        tf_idf_ans.append(lst_tfs[i] * lst_idfs[i])\n",
    "\n",
    "    return tf_idf_ans\n",
    "\n",
    "\n",
    "tf_idf_ans = tf_idf(corpus)\n",
    "\n"
   ]
  },
  {
   "cell_type": "code",
   "execution_count": 14,
   "metadata": {},
   "outputs": [],
   "source": [
    "from math import sqrt\n",
    "\n",
    "def l2_regularization(x):\n",
    "    \"\"\"\n",
    "    Calculates L2 regularization\n",
    "    :param x: list of tfidf values\n",
    "    :return: l2 regularized tfidf values\n",
    "    \"\"\"\n",
    "    tot = 0\n",
    "    for num in x:\n",
    "        tot += (num ** 2)\n",
    "\n",
    "    fin_tot = sqrt(tot)\n",
    "\n",
    "    fin_ans = []\n",
    "    for p in x:\n",
    "        g = float(p / fin_tot)\n",
    "        fin_ans.append(g)\n",
    "    return fin_ans\n"
   ]
  },
  {
   "cell_type": "code",
   "execution_count": 15,
   "metadata": {},
   "outputs": [
    {
     "data": {
      "text/plain": [
       "[0.3840852409148149,\n",
       " 0.3840852409148149,\n",
       " 0.3840852409148149,\n",
       " 0.580285823684436,\n",
       " 0.4697913855799205]"
      ]
     },
     "execution_count": 15,
     "metadata": {},
     "output_type": "execute_result"
    }
   ],
   "source": [
    "#l2 regularized value for chosen line's tfidf\n",
    "l2_regularization(tf_idf_ans)"
   ]
  },
  {
   "cell_type": "markdown",
   "metadata": {
    "colab_type": "text",
    "id": "MMxBmVZExLjK"
   },
   "source": [
    "## Task-2"
   ]
  },
  {
   "cell_type": "markdown",
   "metadata": {
    "colab_type": "text",
    "id": "51j_OtqAxLjL"
   },
   "source": [
    "<font face='georgia'>\n",
    "    <h4><strong>2. Implement max features functionality:</strong></h4>\n",
    "\n",
    "<ul>\n",
    "    <li> As a part of this task you have to modify your fit and transform functions so that your vocab will contain only 50 terms with top idf scores.</li>\n",
    "    <br>\n",
    "    <li>This task is similar to your previous task, just that here your vocabulary is limited to only top 50 features names based on their idf values. Basically your output will have exactly 50 columns and the number of rows will depend on the number of documents you have in your corpus.</li>\n",
    "    <br>\n",
    "    <li>Here you will be give a pickle file, with file name <strong>cleaned_strings</strong>. You would have to load the corpus from this file and use it as input to your tfidf vectorizer.</li>\n",
    "    <br>\n",
    "    <li>Steps to approach this task:\n",
    "    <ol>\n",
    "        <li> You would have to write both fit and transform methods for your custom implementation of tfidf vectorizer, just like in the previous task. Additionally, here you have to limit the number of features generated to 50 as described above.</li>\n",
    "        <li> Now sort your vocab based in descending order of idf values and print out the words in the sorted voacb after you fit your data. Here you should be getting only 50 terms in your vocab. And make sure to print idf values for each term in your vocab. </li>\n",
    "        <li> Make sure the output of your implementation is a sparse matrix. Before generating the final output, you need to normalize your sparse matrix using L2 normalization. You can refer to this link https://scikit-learn.org/stable/modules/generated/sklearn.preprocessing.normalize.html </li>\n",
    "        <li> Now check the output of a single document in your collection of documents,  you can convert the sparse matrix related only to that document into dense matrix and print it. And this dense matrix should contain 1 row and 50 columns. </li>\n",
    "        </ol>\n",
    "    </li>\n",
    "    <br>\n",
    "   </ul>"
   ]
  },
  {
   "cell_type": "code",
   "execution_count": 16,
   "metadata": {
    "colab": {},
    "colab_type": "code",
    "id": "NHxPLlwNxLjL",
    "outputId": "9abd8e08-0e24-4975-9a13-4d3636d60323"
   },
   "outputs": [
    {
     "name": "stdout",
     "output_type": "stream",
     "text": [
      "Number of documents in corpus =  746\n"
     ]
    }
   ],
   "source": [
    "# Below is the code to load the cleaned_strings pickle file provided\n",
    "# Here corpus is of list type\n",
    "\n",
    "import pickle\n",
    "with open('cleaned_strings', 'rb') as f:\n",
    "    corpus = pickle.load(f)\n",
    "    \n",
    "# printing the length of the corpus loaded\n",
    "print(\"Number of documents in corpus = \",len(corpus))"
   ]
  },
  {
   "cell_type": "code",
   "execution_count": 17,
   "metadata": {
    "colab": {},
    "colab_type": "code",
    "id": "ZULfoOIdxLjQ"
   },
   "outputs": [],
   "source": [
    "# Get feature names\n",
    "vocab_2=get_featurenames(corpus)"
   ]
  },
  {
   "cell_type": "code",
   "execution_count": 18,
   "metadata": {
    "colab": {},
    "colab_type": "code",
    "id": "1_DJnnR3xLjR"
   },
   "outputs": [],
   "source": [
    "# Get frequency of each word\n",
    "vocab_d2 = vocab_dct(vocab_2)"
   ]
  },
  {
   "cell_type": "code",
   "execution_count": 19,
   "metadata": {},
   "outputs": [],
   "source": [
    "#Calculates idf\n",
    "\n",
    "idf_2 = idf_val(corpus,vocab_2)"
   ]
  },
  {
   "cell_type": "code",
   "execution_count": 20,
   "metadata": {},
   "outputs": [],
   "source": [
    "#https://buhrmann.github.io/tfidf-analysis.html\n",
    "\n",
    "\n",
    "def top_idf(idf, features, top_n=50):\n",
    "    \"\"\"\n",
    "    calculates top 50 idf values\n",
    "    :param idf: idf values\n",
    "    :param features: feature names\n",
    "    :param top_n: how many top values are needed, by default 50\n",
    "    :return: \n",
    "    \"\"\"\n",
    "    indices = np.argsort(idf)[::-1]\n",
    "    top_features = [features[i] for i in indices[:top_n]]\n",
    "    idf = [idf[i] for i in indices[:top_n]]\n",
    "    top = list(zip(top_features, idf))\n",
    "    return top\n"
   ]
  },
  {
   "cell_type": "code",
   "execution_count": 21,
   "metadata": {},
   "outputs": [
    {
     "data": {
      "text/plain": [
       "[('zombiez', 6.922918004572872),\n",
       " ('humanity', 6.922918004572872),\n",
       " ('hollander', 6.922918004572872),\n",
       " ('homework', 6.922918004572872),\n",
       " ('honestly', 6.922918004572872),\n",
       " ('hopefully', 6.922918004572872),\n",
       " ('hopeless', 6.922918004572872),\n",
       " ('horrendously', 6.922918004572872),\n",
       " ('horrid', 6.922918004572872),\n",
       " ('horrified', 6.922918004572872),\n",
       " ('hosting', 6.922918004572872),\n",
       " ('houses', 6.922918004572872),\n",
       " ('howdy', 6.922918004572872),\n",
       " ('howell', 6.922918004572872),\n",
       " ('hugo', 6.922918004572872),\n",
       " ('humans', 6.922918004572872),\n",
       " ('holding', 6.922918004572872),\n",
       " ('hummh', 6.922918004572872),\n",
       " ('hurt', 6.922918004572872),\n",
       " ('hype', 6.922918004572872),\n",
       " ('hypocrisy', 6.922918004572872),\n",
       " ('idealogical', 6.922918004572872),\n",
       " ('identified', 6.922918004572872),\n",
       " ('identifies', 6.922918004572872),\n",
       " ('idiotic', 6.922918004572872),\n",
       " ('idyllic', 6.922918004572872),\n",
       " ('imagine', 6.922918004572872),\n",
       " ('imdb', 6.922918004572872),\n",
       " ('impact', 6.922918004572872),\n",
       " ('imperial', 6.922918004572872),\n",
       " ('holds', 6.922918004572872),\n",
       " ('hoffman', 6.922918004572872),\n",
       " ('jet', 6.922918004572872),\n",
       " ('heist', 6.922918004572872),\n",
       " ('hankies', 6.922918004572872),\n",
       " ('happiness', 6.922918004572872),\n",
       " ('happy', 6.922918004572872),\n",
       " ('harris', 6.922918004572872),\n",
       " ('hatred', 6.922918004572872),\n",
       " ('havilland', 6.922918004572872),\n",
       " ('hayao', 6.922918004572872),\n",
       " ('hayworth', 6.922918004572872),\n",
       " ('heads', 6.922918004572872),\n",
       " ('hearts', 6.922918004572872),\n",
       " ('heartwarming', 6.922918004572872),\n",
       " ('heche', 6.922918004572872),\n",
       " ('heels', 6.922918004572872),\n",
       " ('helen', 6.922918004572872),\n",
       " ('hockey', 6.922918004572872),\n",
       " ('hellish', 6.922918004572872)]"
      ]
     },
     "execution_count": 21,
     "metadata": {},
     "output_type": "execute_result"
    }
   ],
   "source": [
    "# top 50 features based on  tfidf values\n",
    "tf_idf_ans_2 = top_idf(idf_2,vocab_2,50)\n",
    "list(tf_idf_ans_2)"
   ]
  },
  {
   "cell_type": "code",
   "execution_count": 22,
   "metadata": {},
   "outputs": [],
   "source": [
    "# Regularized tfidf values for top 50 features\n",
    "tf_1 = [i[1] for i in tf_idf_ans_2]\n",
    "tf1_reg=(l2_regularization(tf_1)) \n"
   ]
  },
  {
   "cell_type": "code",
   "execution_count": 23,
   "metadata": {},
   "outputs": [
    {
     "data": {
      "text/plain": [
       "(746, 50)"
      ]
     },
     "execution_count": 23,
     "metadata": {},
     "output_type": "execute_result"
    }
   ],
   "source": [
    "shape2 = (len(corpus),len(tf1_reg))\n",
    "shape2"
   ]
  },
  {
   "cell_type": "code",
   "execution_count": null,
   "metadata": {},
   "outputs": [],
   "source": []
  }
 ],
 "metadata": {
  "colab": {
   "collapsed_sections": [],
   "name": "Assignment_3_Instructions.ipynb",
   "provenance": []
  },
  "kernelspec": {
   "display_name": "Python 3",
   "language": "python",
   "name": "python3"
  },
  "language_info": {
   "codemirror_mode": {
    "name": "ipython",
    "version": 3
   },
   "file_extension": ".py",
   "mimetype": "text/x-python",
   "name": "python",
   "nbconvert_exporter": "python",
   "pygments_lexer": "ipython3",
   "version": "3.6.5"
  }
 },
 "nbformat": 4,
 "nbformat_minor": 1
}
